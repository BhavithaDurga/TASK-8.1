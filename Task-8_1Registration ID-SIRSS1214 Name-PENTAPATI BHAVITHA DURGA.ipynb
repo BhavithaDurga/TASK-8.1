{
 "cells": [
  {
   "cell_type": "markdown",
   "id": "40e69386",
   "metadata": {},
   "source": [
    "# ASSIGNMENT : 8-1\n",
    "\n",
    "# REG ID : SIRSS1214\n",
    "\n",
    "# NAME : PENTAPATI BHAVITHA DURGA"
   ]
  },
  {
   "cell_type": "markdown",
   "id": "8527ce1d",
   "metadata": {},
   "source": [
    "# Gradient Descent :"
   ]
  },
  {
   "cell_type": "markdown",
   "id": "858910b3",
   "metadata": {},
   "source": [
    "Gradient Descent is the process of minimizing a function by following the gradients of the cost function"
   ]
  },
  {
   "cell_type": "code",
   "execution_count": 1,
   "id": "c4e18ae5",
   "metadata": {},
   "outputs": [],
   "source": [
    "import numpy as np\n",
    "import pandas as pd\n",
    "import matplotlib.pyplot as plt\n",
    "%matplotlib inline"
   ]
  },
  {
   "cell_type": "code",
   "execution_count": 9,
   "id": "d72fd998",
   "metadata": {},
   "outputs": [],
   "source": [
    "class LinearRegression:\n",
    "    def __init__(self,print_cost=True):\n",
    "        self.learning_rate = 0.01\n",
    "        self.print_cost = print_cost\n",
    "        \n",
    "    def y_pred(self,X,w):\n",
    "        return np.dot(w.T,X)\n",
    "    #dot(a, b)[i,j,k,m] = sum(a[i,j,:] * b[k,:,m])\n",
    "    \n",
    "    def cost(self, yhat, y):\n",
    "        C = 1 / self.m * np.sum(np.power(yhat - y, 2))\n",
    "        #Calculating Mean square error\n",
    "        return C\n",
    "    \n",
    "    def gradient_descent(self, w, X, y, yhat):\n",
    "        gd = 2 / self.m * np.dot(X, (yhat - y).T)\n",
    "        w = w - self.learning_rate * gd\n",
    "        return w\n",
    "    \n",
    "    def main(self, X, y,total_iterations,k):\n",
    "        # Add x1 = 1\n",
    "        ones = np.ones((1, X.shape[1]))\n",
    "        X = np.append(ones, X, axis=0)\n",
    "        costs=[]\n",
    "\n",
    "        self.m = X.shape[1]\n",
    "        self.n = X.shape[0]\n",
    "\n",
    "        w = np.zeros((self.n, 1))\n",
    "\n",
    "        for it in range(total_iterations + 1):\n",
    "            yhat = self.y_pred(X, w)\n",
    "            cost = self.cost(yhat, y)\n",
    "            costs.append(cost)\n",
    "            if it % k == 0 and self.print_cost:\n",
    "                print(f\"Cost at iteration {it} is {cost}\")\n",
    "\n",
    "            w = self.gradient_descent(w, X, y, yhat)\n",
    "            \n",
    "        print('Slope:',w[1,0])\n",
    "        print('Intercept:',w[0,0])\n",
    "        return (w,costs)"
   ]
  },
  {
   "cell_type": "markdown",
   "id": "19aa24bf",
   "metadata": {},
   "source": [
    "# Training model on ndarray"
   ]
  },
  {
   "cell_type": "code",
   "execution_count": 10,
   "id": "11a0b538",
   "metadata": {},
   "outputs": [
    {
     "name": "stdout",
     "output_type": "stream",
     "text": [
      "Cost at iteration 0 is 43.95518712643422\n",
      "Cost at iteration 100 is 0.24765074951851648\n",
      "Cost at iteration 200 is 0.013241653852684958\n",
      "Cost at iteration 300 is 0.011644776289325054\n",
      "Cost at iteration 400 is 0.011365996039586915\n",
      "Cost at iteration 500 is 0.011151000474735294\n",
      "Cost at iteration 600 is 0.010981166182181054\n",
      "Cost at iteration 700 is 0.010846984632399562\n",
      "Cost at iteration 800 is 0.010740971246494145\n",
      "Cost at iteration 900 is 0.010657212800609295\n",
      "Cost at iteration 1000 is 0.010591037409667003\n",
      "Slope: 2.962039950858816\n",
      "Intercept: 5.029564119870847\n"
     ]
    }
   ],
   "source": [
    "if __name__ == \"__main__\":\n",
    "    X = np.random.rand(1, 500)\n",
    "    y = 3 * X + 5 + np.random.randn(1, 500) * 0.1\n",
    "    regression = LinearRegression()\n",
    "    w,c = regression.main(X,y,1000,100) #c for costs"
   ]
  },
  {
   "cell_type": "code",
   "execution_count": 3,
   "id": "12a7b3ba",
   "metadata": {},
   "outputs": [
    {
     "data": {
      "text/plain": [
       "<matplotlib.collections.PathCollection at 0x22ab775f220>"
      ]
     },
     "execution_count": 3,
     "metadata": {},
     "output_type": "execute_result"
    },
    {
     "data": {
      "image/png": "[encoded data removed]",
      "text/plain": [
       "<Figure size 432x288 with 1 Axes>"
      ]
     },
     "metadata": {
      "needs_background": "light"
     },
     "output_type": "display_data"
    }
   ],
   "source": [
    "plt.scatter(X,y)"
   ]
  },
  {
   "cell_type": "code",
   "execution_count": 4,
   "id": "db1189d9",
   "metadata": {},
   "outputs": [
    {
     "ename": "NameError",
     "evalue": "name 'c' is not defined",
     "output_type": "error",
     "traceback": [
      "\u001b[1;31m---------------------------------------------------------------------------\u001b[0m",
      "\u001b[1;31mNameError\u001b[0m                                 Traceback (most recent call last)",
      "\u001b[1;32m<ipython-input-4-ebab90b8f6e8>\u001b[0m in \u001b[0;36m<module>\u001b[1;34m\u001b[0m\n\u001b[1;32m----> 1\u001b[1;33m \u001b[0mplt\u001b[0m\u001b[1;33m.\u001b[0m\u001b[0mplot\u001b[0m\u001b[1;33m(\u001b[0m\u001b[0mc\u001b[0m\u001b[1;33m)\u001b[0m\u001b[1;33m\u001b[0m\u001b[1;33m\u001b[0m\u001b[0m\n\u001b[0m",
      "\u001b[1;31mNameError\u001b[0m: name 'c' is not defined"
     ]
    }
   ],
   "source": [
    "plt.plot(c)"
   ]
  },
  {
   "cell_type": "markdown",
   "id": "70c21fba",
   "metadata": {},
   "source": [
    "# Training model on data set"
   ]
  },
  {
   "cell_type": "code",
   "execution_count": 5,
   "id": "bceca3f7",
   "metadata": {},
   "outputs": [],
   "source": [
    "data=pd.read_csv(\"Salary_Data.csv\")"
   ]
  },
  {
   "cell_type": "code",
   "execution_count": 6,
   "id": "f98ad3b7",
   "metadata": {},
   "outputs": [
    {
     "data": {
      "text/html": [
       "<div>\n",
       "<style scoped>\n",
       "    .dataframe tbody tr th:only-of-type {\n",
       "        vertical-align: middle;\n",
       "    }\n",
       "\n",
       "    .dataframe tbody tr th {\n",
       "        vertical-align: top;\n",
       "    }\n",
       "\n",
       "    .dataframe thead th {\n",
       "        text-align: right;\n",
       "    }\n",
       "</style>\n",
       "<table border=\"1\" class=\"dataframe\">\n",
       "  <thead>\n",
       "    <tr style=\"text-align: right;\">\n",
       "      <th></th>\n",
       "      <th>YearsExperience</th>\n",
       "      <th>Salary</th>\n",
       "    </tr>\n",
       "  </thead>\n",
       "  <tbody>\n",
       "    <tr>\n",
       "      <th>0</th>\n",
       "      <td>1.1</td>\n",
       "      <td>39343.0</td>\n",
       "    </tr>\n",
       "    <tr>\n",
       "      <th>1</th>\n",
       "      <td>1.3</td>\n",
       "      <td>46205.0</td>\n",
       "    </tr>\n",
       "    <tr>\n",
       "      <th>2</th>\n",
       "      <td>1.5</td>\n",
       "      <td>37731.0</td>\n",
       "    </tr>\n",
       "    <tr>\n",
       "      <th>3</th>\n",
       "      <td>2.0</td>\n",
       "      <td>43525.0</td>\n",
       "    </tr>\n",
       "    <tr>\n",
       "      <th>4</th>\n",
       "      <td>2.2</td>\n",
       "      <td>39891.0</td>\n",
       "    </tr>\n",
       "  </tbody>\n",
       "</table>\n",
       "</div>"
      ],
      "text/plain": [
       "   YearsExperience   Salary\n",
       "0              1.1  39343.0\n",
       "1              1.3  46205.0\n",
       "2              1.5  37731.0\n",
       "3              2.0  43525.0\n",
       "4              2.2  39891.0"
      ]
     },
     "execution_count": 6,
     "metadata": {},
     "output_type": "execute_result"
    }
   ],
   "source": [
    "data.head()"
   ]
  },
  {
   "cell_type": "code",
   "execution_count": 7,
   "id": "1f7405cf",
   "metadata": {},
   "outputs": [
    {
     "data": {
      "text/plain": [
       "0"
      ]
     },
     "execution_count": 7,
     "metadata": {},
     "output_type": "execute_result"
    }
   ],
   "source": [
    "data.duplicated().sum()"
   ]
  },
  {
   "cell_type": "code",
   "execution_count": 9,
   "id": "755c4d93",
   "metadata": {},
   "outputs": [],
   "source": [
    "X=data.iloc[:,:-1].values\n",
    "Y=data.iloc[:,:-1].values"
   ]
  },
  {
   "cell_type": "code",
   "execution_count": 10,
   "id": "c824b25a",
   "metadata": {},
   "outputs": [
    {
     "data": {
      "text/plain": [
       "<matplotlib.collections.PathCollection at 0x299001785b0>"
      ]
     },
     "execution_count": 10,
     "metadata": {},
     "output_type": "execute_result"
    },
    {
     "data": {
      "image/png": "[encoded data removed]",
      "text/plain": [
       "<Figure size 432x288 with 1 Axes>"
      ]
     },
     "metadata": {
      "needs_background": "light"
     },
     "output_type": "display_data"
    }
   ],
   "source": [
    "plt.scatter(X,Y)"
   ]
  },
  {
   "cell_type": "code",
   "execution_count": 11,
   "id": "f884f3f3",
   "metadata": {},
   "outputs": [
    {
     "name": "stdout",
     "output_type": "stream",
     "text": [
      "Cost at iteration 0 is 1080.5\n",
      "Cost at iteration 2 is 195713905.35342363\n",
      "Cost at iteration 4 is 35450192270882.8\n",
      "Cost at iteration 6 is 6.4211897962649e+18\n",
      "Cost at iteration 8 is 1.1630875817145377e+24\n",
      "Cost at iteration 10 is 2.1067321877410586e+29\n",
      "Cost at iteration 12 is 3.8159813419395153e+34\n",
      "Cost at iteration 14 is 6.911990848558822e+39\n",
      "Cost at iteration 16 is 1.25198771192834e+45\n",
      "Cost at iteration 18 is 2.2677594128273255e+50\n",
      "Cost at iteration 20 is 4.1076543367554166e+55\n",
      "Slope: 4.500312105301212e+24\n",
      "Intercept: 4.0911928230011015e+24\n"
     ]
    }
   ],
   "source": [
    "result,c=regression.main(X,Y,20,2)"
   ]
  },
  {
   "cell_type": "code",
   "execution_count": 12,
   "id": "f78fc1ff",
   "metadata": {},
   "outputs": [
    {
     "data": {
      "text/plain": [
       "[<matplotlib.lines.Line2D at 0x299001ca3d0>]"
      ]
     },
     "execution_count": 12,
     "metadata": {},
     "output_type": "execute_result"
    },
    {
     "data": {
      "image/png": "[encoded data removed]",
      "text/plain": [
       "<Figure size 432x288 with 1 Axes>"
      ]
     },
     "metadata": {
      "needs_background": "light"
     },
     "output_type": "display_data"
    }
   ],
   "source": [
    "plt.plot(c)"
   ]
  },
  {
   "cell_type": "code",
   "execution_count": null,
   "id": "c674d1bc",
   "metadata": {},
   "outputs": [],
   "source": []
  }
 ],
 "metadata": {
  "kernelspec": {
   "display_name": "Python 3",
   "language": "python",
   "name": "python3"
  },
  "language_info": {
   "codemirror_mode": {
    "name": "ipython",
    "version": 3
   },
   "file_extension": ".py",
   "mimetype": "text/x-python",
   "name": "python",
   "nbconvert_exporter": "python",
   "pygments_lexer": "ipython3",
   "version": "3.8.8"
  }
 },
 "nbformat": 4,
 "nbformat_minor": 5
}
